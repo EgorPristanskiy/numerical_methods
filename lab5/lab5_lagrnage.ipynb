{
 "cells": [
  {
   "cell_type": "code",
   "execution_count": 44,
   "metadata": {},
   "outputs": [],
   "source": [
    "import numpy as np\n",
    "import matplotlib.pyplot as plt\n",
    "from matplotlib.ticker import (AutoMinorLocator, MultipleLocator)"
   ]
  },
  {
   "cell_type": "code",
   "execution_count": 121,
   "metadata": {},
   "outputs": [],
   "source": [
    "class Lab5(object):\n",
    "    def __init__(self):\n",
    "        print(\"Введите количество входных точек\")\n",
    "        self.number_of_input_points = int(input())\n",
    "        self.input_points = []\n",
    "        for i in range(self.number_of_input_points):\n",
    "            print(\"Введите точку x, y\")\n",
    "            x, y = map(float, input())\n",
    "            point = [float(x), float(y)]\n",
    "            self.input_points.append(point)\n",
    "        self.input_points = np.array(self.input_points)\n",
    "        print(\"Входные точки {}\".format(self.input_points))\n",
    "  \n",
    "    def plot_results(self, x_point, y_point):\n",
    "        fig = plt.figure(dpi=100)\n",
    "        ax  = fig.add_subplot(111)\n",
    "        ax.plot(self.input_points[:, 0], self.input_points[:, 1], 'bo')\n",
    "        ax.plot(x_point, y_point, 'ro')\n",
    "        ax.set_xlabel(\"X\")\n",
    "        ax.set_ylabel(\"Y\")\n",
    "        leg = plt.legend(bbox_to_anchor=(0.795,1.01),\\\n",
    "            bbox_transform=plt.gcf().transFigure, ncol=2)\n",
    "        leg_lines = leg.get_lines()\n",
    "        leg_texts = leg.get_texts()\n",
    "        plt.setp(leg_lines, linewidth=2)\n",
    "        plt.show()\n",
    "   \n",
    "    def calculate_langrange_step(self, i, x, x_i):\n",
    "        total_multiplication = 1\n",
    "        for j in xrange(self.number_of_input_points):\n",
    "            if i != j:\n",
    "                x_j, y_j = self.input_points[j, 0], self.input_points[j, 1]\n",
    "                total_multiplication *= (x - x_j) / float((x_i - x_j))\n",
    "        return total_multiplication\n",
    "    \n",
    "    def interpolate(self):\n",
    "        print(\"Введите точку\")\n",
    "        x_interpolate = float(input())\n",
    "        total = 0.0\n",
    "        for i in xrange(self.number_of_input_points):\n",
    "            x, y = self.input_points[i][0], self.input_points[i][1]\n",
    "            total_multiplication = self.calculate_langrange_step(i, x_interpolate, x)\n",
    "            t = float(float(y) * float(total_multiplication))\n",
    "            total += t\n",
    "        return x_interpolate, total\n",
    "    \n",
    "    def main(self):\n",
    "        x_result, y_result = self.interpolate()\n",
    "        print(x_result, y_result)\n",
    "        self.plot_results(x_result, y_result)"
   ]
  },
  {
   "cell_type": "code",
   "execution_count": 122,
   "metadata": {},
   "outputs": [
    {
     "name": "stdout",
     "output_type": "stream",
     "text": [
      "Введите количество входных точек\n",
      "5\n",
      "Введите точку x, y\n",
      "0, 0\n",
      "Введите точку x, y\n",
      "1,1\n",
      "Введите точку x, y\n",
      "2, 4\n",
      "Введите точку x, y\n",
      "3, 9\n",
      "Введите точку x, y\n",
      "4, 16\n",
      "Входные точки [[ 0.  0.]\n",
      " [ 1.  1.]\n",
      " [ 2.  4.]\n",
      " [ 3.  9.]\n",
      " [ 4. 16.]]\n"
     ]
    }
   ],
   "source": [
    "lab5 = Lab5()"
   ]
  },
  {
   "cell_type": "code",
   "execution_count": 123,
   "metadata": {},
   "outputs": [
    {
     "name": "stdout",
     "output_type": "stream",
     "text": [
      "Введите точку\n",
      "2.5\n",
      "(2.5, 6.25)\n"
     ]
    },
    {
     "data": {
      "image/png": "[encoded data removed]",
      "text/plain": [
       "<Figure size 600x400 with 1 Axes>"
      ]
     },
     "metadata": {
      "needs_background": "light"
     },
     "output_type": "display_data"
    }
   ],
   "source": [
    "lab5.main()"
   ]
  }
 ],
 "metadata": {
  "kernelspec": {
   "display_name": "Python 2",
   "language": "python",
   "name": "python2"
  },
  "language_info": {
   "codemirror_mode": {
    "name": "ipython",
    "version": 2
   },
   "file_extension": ".py",
   "mimetype": "text/x-python",
   "name": "python",
   "nbconvert_exporter": "python",
   "pygments_lexer": "ipython2",
   "version": "2.7.12"
  }
 },
 "nbformat": 4,
 "nbformat_minor": 2
}
