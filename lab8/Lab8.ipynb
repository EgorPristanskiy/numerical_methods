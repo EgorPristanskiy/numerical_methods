{
 "cells": [
  {
   "cell_type": "code",
   "execution_count": 2,
   "metadata": {},
   "outputs": [],
   "source": [
    "import numpy as np\n",
    "import pandas as pd"
   ]
  },
  {
   "cell_type": "code",
   "execution_count": 39,
   "metadata": {},
   "outputs": [],
   "source": [
    "class Lab8(object):\n",
    "    def __init__(self, left_border, right_border, y_value, number_of_iteration, function_f, function_c):\n",
    "        self._number_of_iteration = number_of_iteration\n",
    "        self._step = (right_border - left_border) / float(number_of_iteration)\n",
    "        self._left_border = left_border\n",
    "        self._right_border = right_border\n",
    "        self._x_values = self._get_x_value()\n",
    "        self._y_value = y_value\n",
    "        self._function_f = function_f\n",
    "        self._function_c = function_c\n",
    "    \n",
    "    def _get_x_value(self):\n",
    "        return np.linspace(self._left_border, self._right_border, self._number_of_iteration)\n",
    "    \n",
    "    def calculate(self):\n",
    "        x = self._x_values[0]\n",
    "        c = self._function_c(self._x_values[0], self._y_value)\n",
    "        print(\"X {} Y {:2} C {}\".format(self._x_values[0], self._y_value, c))\n",
    "        for i in range(self._number_of_iteration):\n",
    "            self._y_value += self._step * self._function_f(x, self._y_value)\n",
    "            x += self._step\n",
    "            c = self._function_c(x, self._y_value)\n",
    "            print(\"X {}\\tY {}\\t C {}\".format(x, self._y_value, c))\n",
    "    \n",
    "    def main(self):\n",
    "        self.calculate()"
   ]
  },
  {
   "cell_type": "code",
   "execution_count": 40,
   "metadata": {},
   "outputs": [
    {
     "name": "stdout",
     "output_type": "stream",
     "text": [
      "X 1.0 Y 3.0 C 25.0\n",
      "X 1.1\tY 2.7222222222222223\t C 24.573456790123462\n",
      "X 1.2000000000000002\tY 2.4881917769241713\t C 24.24274936339282\n",
      "X 1.3000000000000003\tY 2.286410692828523\t C 23.98487084317569\n",
      "X 1.4000000000000004\tY 2.1087709994435033\t C 23.784667650801\n",
      "X 1.5000000000000004\tY 1.9492908184474205\t C 23.632186204910568\n",
      "X 1.6000000000000005\tY 1.8033268633709478\t C 23.521254206452543\n",
      "X 1.7000000000000006\tY 1.6670326630035146\t C 23.448869341977083\n",
      "X 1.8000000000000007\tY 1.5369167700388895\t C 23.41532451847098\n",
      "X 1.9000000000000008\tY 1.4093628312744557\t C 23.425424916764904\n",
      "X 2.000000000000001\tY 1.2798710451918327\t C 23.492213192522982\n",
      "0.1\n"
     ]
    }
   ],
   "source": [
    "def function_f(x, y):\n",
    "    return (1. / x) * ((-4 * (y**2) + 6 * y -7) / (4 * y - 3)) \n",
    "\n",
    "def function_c(x, y):\n",
    "    return x**2 * (4 * (y**2) - 6 * y +7)\n",
    "\n",
    "left_border = 1.\n",
    "right_border = 2.\n",
    "number_of_iteration = 10\n",
    "y_value = 3.\n",
    "test = Lab8(left_border, right_border, y_value, number_of_iteration, function_f, function_c)\n",
    "test.main()\n",
    "print(test._step)"
   ]
  },
  {
   "cell_type": "code",
   "execution_count": null,
   "metadata": {},
   "outputs": [],
   "source": []
  }
 ],
 "metadata": {
  "kernelspec": {
   "display_name": "Python 3",
   "language": "python",
   "name": "python3"
  },
  "language_info": {
   "codemirror_mode": {
    "name": "ipython",
    "version": 3
   },
   "file_extension": ".py",
   "mimetype": "text/x-python",
   "name": "python",
   "nbconvert_exporter": "python",
   "pygments_lexer": "ipython3",
   "version": "3.5.2"
  }
 },
 "nbformat": 4,
 "nbformat_minor": 2
}
