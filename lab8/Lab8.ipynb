{
 "cells": [
  {
   "cell_type": "markdown",
   "metadata": {},
   "source": [
    "## Метод Эйлера"
   ]
  },
  {
   "cell_type": "code",
   "execution_count": 1,
   "metadata": {},
   "outputs": [],
   "source": [
    "import numpy as np\n",
    "import pandas as pd"
   ]
  },
  {
   "cell_type": "code",
   "execution_count": 2,
   "metadata": {},
   "outputs": [],
   "source": [
    "class Lab8(object):\n",
    "    def __init__(self, left_border, right_border, y_value, number_of_iteration, function_f, function_c):\n",
    "        self._number_of_iteration = number_of_iteration\n",
    "        self._step = (right_border - left_border) / float(number_of_iteration)\n",
    "        self._left_border = left_border\n",
    "        self._right_border = right_border\n",
    "        self._x_values = self._get_x_value()\n",
    "        self._y_value = y_value\n",
    "        self._function_f = function_f\n",
    "        self._function_c = function_c\n",
    "        self._answer = {\"X\": [], \n",
    "                        \"Y\": [],\n",
    "                        \"C\": []}\n",
    "    \n",
    "    def _get_x_value(self):\n",
    "        return np.linspace(self._left_border, self._right_border, self._number_of_iteration+1)\n",
    "    \n",
    "    def calculate(self):\n",
    "        for x in self._x_values:\n",
    "            c = self._function_c(x, self._y_value)\n",
    "            self._answer[\"X\"].append(x)\n",
    "            self._answer[\"C\"].append(c)\n",
    "            self._answer[\"Y\"].append(self._y_value)\n",
    "            self._y_value += self._step * self._function_f(x, self._y_value)\n",
    "    \n",
    "    def main(self):\n",
    "        self.calculate()\n",
    "        answer_table = pd.DataFrame(self._answer, columns=['X', 'Y', 'C'])\n",
    "        print(answer_table)"
   ]
  },
  {
   "cell_type": "markdown",
   "metadata": {},
   "source": [
    "## $$y\\prime = \\cfrac{1}{x} \\cfrac{-4 y^2 + 6y -7}{4 y - 3}$$\n",
    "## $$C = x^2(4y^2 - 6y + 7)$$"
   ]
  },
  {
   "cell_type": "code",
   "execution_count": 3,
   "metadata": {},
   "outputs": [
    {
     "name": "stdout",
     "output_type": "stream",
     "text": [
      "      X         Y          C\n",
      "0   1.0  3.000000  25.000000\n",
      "1   1.1  2.722222  24.573457\n",
      "2   1.2  2.488192  24.242749\n",
      "3   1.3  2.286411  23.984871\n",
      "4   1.4  2.108771  23.784668\n",
      "5   1.5  1.949291  23.632186\n",
      "6   1.6  1.803327  23.521254\n",
      "7   1.7  1.667033  23.448869\n",
      "8   1.8  1.536917  23.415325\n",
      "9   1.9  1.409363  23.425425\n",
      "10  2.0  1.279871  23.492213\n"
     ]
    }
   ],
   "source": [
    "def function_f(x, y):\n",
    "    return (1. / x) * ((-4 * (y**2) + 6 * y -7) / (4 * y - 3)) \n",
    "\n",
    "def function_c(x, y):\n",
    "    return x**2 * (4 * (y**2) - 6 * y +7)\n",
    "\n",
    "left_border = 1.\n",
    "right_border = 2.\n",
    "number_of_iteration = 10\n",
    "y_value = 3.\n",
    "test = Lab8(left_border, right_border, y_value, number_of_iteration, function_f, function_c)\n",
    "test.main()"
   ]
  },
  {
   "cell_type": "markdown",
   "metadata": {},
   "source": [
    "## $$y\\prime = \\cfrac{2}{y} - 2$$\n",
    "## $$C = 2x + y + \\ln{|-y + 1|}$$"
   ]
  },
  {
   "cell_type": "code",
   "execution_count": 4,
   "metadata": {},
   "outputs": [
    {
     "name": "stdout",
     "output_type": "stream",
     "text": [
      "      X         Y         C\n",
      "0   1.0  3.000000  4.306853\n",
      "1   1.1  2.866667  4.442512\n",
      "2   1.2  2.736434  4.584600\n",
      "3   1.3  2.609522  4.733585\n",
      "4   1.4  2.486164  4.889966\n",
      "5   1.5  2.366610  5.054277\n",
      "6   1.6  2.251119  5.227081\n",
      "7   1.7  2.139963  5.408967\n",
      "8   1.8  2.033423  5.600546\n",
      "9   1.9  1.931779  5.802439\n",
      "10  2.0  1.835311  6.015262\n"
     ]
    }
   ],
   "source": [
    "def function_f(x, y):\n",
    "    return 2. / y - 2.  \n",
    "\n",
    "def function_c(x, y):\n",
    "    return 2*x + y - np.log(np.abs(-y + 1))\n",
    "\n",
    "left_border = 1.\n",
    "right_border = 2.\n",
    "number_of_iteration = 10\n",
    "y_value = 3.\n",
    "test = Lab8(left_border, right_border, y_value, number_of_iteration, function_f, function_c)\n",
    "test.main()"
   ]
  }
 ],
 "metadata": {
  "kernelspec": {
   "display_name": "Python 3",
   "language": "python",
   "name": "python3"
  },
  "language_info": {
   "codemirror_mode": {
    "name": "ipython",
    "version": 3
   },
   "file_extension": ".py",
   "mimetype": "text/x-python",
   "name": "python",
   "nbconvert_exporter": "python",
   "pygments_lexer": "ipython3",
   "version": "3.5.2"
  }
 },
 "nbformat": 4,
 "nbformat_minor": 2
}
