{
 "cells": [
  {
   "cell_type": "code",
   "execution_count": 3,
   "metadata": {},
   "outputs": [],
   "source": [
    "import matplotlib.pyplot as plt\n",
    "import math"
   ]
  },
  {
   "cell_type": "code",
   "execution_count": 6,
   "metadata": {},
   "outputs": [],
   "source": [
    "class Lab1(object):\n",
    "    def __init__(self):\n",
    "        print(\"Введите параметр a\")\n",
    "        self.a = float(input())\n",
    "        print(\"Введите параметр b\")\n",
    "        self.b = float(input())\n",
    "        print(\"Введите параметр c\")\n",
    "        self.c = float(input())\n",
    "        print(\"Свободный член\")\n",
    "        self.d = float(input())"
   ]
  },
  {
   "cell_type": "code",
   "execution_count": 7,
   "metadata": {},
   "outputs": [
    {
     "name": "stdout",
     "output_type": "stream",
     "text": [
      "Введите параметр a\n",
      "6\n",
      "Введите параметр b\n",
      "7\n",
      "Введите параметр c\n",
      "8\n",
      "Свободный член\n",
      "9\n"
     ]
    }
   ],
   "source": [
    "lab1 = LAb1()"
   ]
  },
  {
   "cell_type": "code",
   "execution_count": null,
   "metadata": {},
   "outputs": [],
   "source": []
  }
 ],
 "metadata": {
  "kernelspec": {
   "display_name": "Python 2",
   "language": "python",
   "name": "python2"
  },
  "language_info": {
   "codemirror_mode": {
    "name": "ipython",
    "version": 2
   },
   "file_extension": ".py",
   "mimetype": "text/x-python",
   "name": "python",
   "nbconvert_exporter": "python",
   "pygments_lexer": "ipython2",
   "version": "2.7.12"
  }
 },
 "nbformat": 4,
 "nbformat_minor": 2
}
