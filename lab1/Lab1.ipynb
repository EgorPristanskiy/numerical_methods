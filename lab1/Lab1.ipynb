{
 "cells": [
  {
   "cell_type": "code",
   "execution_count": 3,
   "metadata": {},
   "outputs": [],
   "source": [
    "import matplotlib.pyplot as plt\n",
    "import math"
   ]
  },
  {
   "cell_type": "markdown",
   "metadata": {},
   "source": [
    "## Иницилизация класса для решения квадратного уравнения и ввода параметров"
   ]
  },
  {
   "cell_type": "code",
   "execution_count": 19,
   "metadata": {},
   "outputs": [],
   "source": [
    "class Lab1(object):\n",
    "    def __init__(self):\n",
    "        print(\"Введите параметр a\")\n",
    "        self.a = float(input())\n",
    "        print(\"Введите параметр b\")\n",
    "        self.b = float(input())\n",
    "        print(\"Введите параметр c\")\n",
    "        self.c = float(input())\n",
    "        self.two_solutions = 2\n",
    "        self.one_solution = 1\n",
    "        self.no_solutions = 0\n",
    "        self.main()\n",
    "    \n",
    "    def get_descriminant_status(self, descriminant):\n",
    "        if descriminant > 0.:\n",
    "            return self.two_solutions\n",
    "        elif descriminant == 0.:\n",
    "            return self.one_solution\n",
    "        else:\n",
    "            return self.no_solutions\n",
    "    \n",
    "    def calculate_descriminat_value(self):\n",
    "        descriminant = self.b **2 - 4 * self.a*self.c\n",
    "        descriminant_status = self.get_descriminant_status(descriminant)\n",
    "        return descriminant, descriminant_status\n",
    "    \n",
    "    def solve_quadratic_equation(self, descriminant, descriminant_status):\n",
    "        print(descriminant)\n",
    "        if descriminant_status == self.two_solutions:\n",
    "            x1 = (-self.b + math.sqrt(descriminant)) / (2 * self.a)\n",
    "            x2 = (-self.b - math.sqrt(descriminant)) / (2 * self.a)\n",
    "            print(\"Первый корень уравнения x1={} \\n Второй корень уравнения x2={}\".format(x1, x2))\n",
    "        elif descriminant_status == self.one_solution:\n",
    "            x = (-self.b) / (2 * self.a)\n",
    "            print(\"Единственный корень уравнения x1={} \".format(x))\n",
    "        else:\n",
    "            print(\"Не существует корней\")\n",
    "    \n",
    "    def main(self):\n",
    "        descriminant, descriminant_status = self.calculate_descriminat_value()\n",
    "        self.solve_quadratic_equation(descriminant, descriminant_status)"
   ]
  },
  {
   "cell_type": "code",
   "execution_count": 25,
   "metadata": {},
   "outputs": [
    {
     "name": "stdout",
     "output_type": "stream",
     "text": [
      "Введите параметр a\n",
      "2\n",
      "Введите параметр b\n",
      "6\n",
      "Введите параметр c\n",
      "3\n",
      "12.0\n",
      "Первый корень уравнения x1=-0.633974596216 \n",
      " Второй корень уравнения x2=-2.36602540378\n"
     ]
    }
   ],
   "source": [
    "lab1 = Lab1()"
   ]
  },
  {
   "cell_type": "code",
   "execution_count": null,
   "metadata": {},
   "outputs": [],
   "source": []
  }
 ],
 "metadata": {
  "kernelspec": {
   "display_name": "Python 2",
   "language": "python",
   "name": "python2"
  },
  "language_info": {
   "codemirror_mode": {
    "name": "ipython",
    "version": 2
   },
   "file_extension": ".py",
   "mimetype": "text/x-python",
   "name": "python",
   "nbconvert_exporter": "python",
   "pygments_lexer": "ipython2",
   "version": "2.7.12"
  }
 },
 "nbformat": 4,
 "nbformat_minor": 2
}
