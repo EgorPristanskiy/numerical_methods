{
 "cells": [
  {
   "cell_type": "markdown",
   "metadata": {},
   "source": [
    "## Метод Эйлера. Решение системы дифференциальных уравнений"
   ]
  },
  {
   "cell_type": "code",
   "execution_count": 1,
   "metadata": {},
   "outputs": [],
   "source": [
    "import numpy as np\n",
    "import pandas as pd"
   ]
  },
  {
   "cell_type": "code",
   "execution_count": 2,
   "metadata": {},
   "outputs": [],
   "source": [
    "class Lab9(object):\n",
    "    def __init__(self, left_border, right_border, y1, y2, number_of_iteration, function_y1, function_y2):\n",
    "        self._number_of_iteration = number_of_iteration\n",
    "        self._step = (right_border - left_border) / float(number_of_iteration)\n",
    "        self._left_border = left_border\n",
    "        self._right_border = right_border\n",
    "        self._x_values = self._get_x_value()\n",
    "        self._y1 = y1\n",
    "        self._y2 = y2\n",
    "        self._function_y1 = function_y1\n",
    "        self._function_y2 = function_y2\n",
    "        self._answer = {\"X\": [], \n",
    "                        \"Y1\": [],\n",
    "                        \"Y2\": []}\n",
    "    \n",
    "    def _get_x_value(self):\n",
    "        return np.linspace(self._left_border, self._right_border, self._number_of_iteration+1)\n",
    "    \n",
    "    def calculate(self):\n",
    "        for x in self._x_values:\n",
    "            self._answer[\"X\"].append(x)\n",
    "            self._answer[\"Y1\"].append(self._y1)\n",
    "            self._answer[\"Y2\"].append(self._y2)\n",
    "            y1 = self._y1\n",
    "            y2 = self._y2\n",
    "            self._y1 += self._step * self._function_y1(x, y1, y2)\n",
    "            self._y2 += self._step * self._function_y2(x, y1, y2)\n",
    "\n",
    "    \n",
    "    def main(self):\n",
    "        self.calculate()\n",
    "        answer_table = pd.DataFrame(self._answer, columns=['X', 'Y1', 'Y2'])\n",
    "        print(answer_table)"
   ]
  },
  {
   "cell_type": "markdown",
   "metadata": {},
   "source": [
    "$$\\begin{equation*}\n",
    "   \\begin{cases}\n",
    "    \\Large y_1\\prime = 3x + 2y_2,\n",
    "    \\\\\n",
    "    \\Large y_2\\prime = 5y_1 - 2x\n",
    "   \\end{cases}\n",
    "   \\end{equation*}$$"
   ]
  },
  {
   "cell_type": "code",
   "execution_count": 3,
   "metadata": {},
   "outputs": [
    {
     "name": "stdout",
     "output_type": "stream",
     "text": [
      "      X         Y1         Y2\n",
      "0   1.0   1.000000   1.000000\n",
      "1   1.1   1.500000   1.300000\n",
      "2   1.2   2.090000   1.830000\n",
      "3   1.3   2.816000   2.635000\n",
      "4   1.4   3.733000   3.783000\n",
      "5   1.5   4.909600   5.369500\n",
      "6   1.6   6.433500   7.524300\n",
      "7   1.7   8.418360  10.421050\n",
      "8   1.8  11.012570  14.290230\n",
      "9   1.9  14.410616  19.436515\n",
      "10  2.0  18.867919  26.261823\n"
     ]
    }
   ],
   "source": [
    "def function_y1(x, y1, y2):\n",
    "    return 3*x + 2*y2\n",
    "\n",
    "def function_y2(x, y1, y2):\n",
    "    return 5*y1 - 2*x\n",
    "\n",
    "left_border = 1.\n",
    "right_border = 2.\n",
    "number_of_iteration = 10\n",
    "y1 = 1.\n",
    "y2 = 1.\n",
    "test = Lab9(left_border, right_border, y1, y2, number_of_iteration, function_y1, function_y2)\n",
    "test.main()"
   ]
  },
  {
   "cell_type": "markdown",
   "metadata": {},
   "source": [
    "$$\\begin{equation*}\n",
    "   \\begin{cases}\n",
    "    \\Large y_1\\prime = \\cfrac{2}{y_1} - 2y_2,\n",
    "    \\\\\n",
    "    \\Large y_2\\prime = 2x + y_1 + \\ln{|-y_2 + 1|}\n",
    "   \\end{cases}\n",
    "   \\end{equation*}$$"
   ]
  },
  {
   "cell_type": "code",
   "execution_count": 4,
   "metadata": {},
   "outputs": [
    {
     "name": "stdout",
     "output_type": "stream",
     "text": [
      "      X         Y1        Y2\n",
      "0   1.0   3.000000  2.000000\n",
      "1   1.1   2.666667  2.500000\n",
      "2   1.2   2.241667  3.027213\n",
      "3   1.3   1.725443  3.562046\n",
      "4   1.4   1.128946  4.088671\n",
      "5   1.5   0.488369  4.594340\n",
      "6   1.6  -0.020973  5.071113\n",
      "7   1.7 -10.571438  5.529407\n",
      "8   1.8 -11.696238  4.963322\n",
      "9   1.9 -12.706002  4.291407\n",
      "10  2.0 -13.580024  3.519938\n"
     ]
    }
   ],
   "source": [
    "def function_y1(x, y1, y2):\n",
    "    return 2. / y1 - 2*y2\n",
    "\n",
    "def function_y2(x, y1, y2):\n",
    "    return 2*x + y1 + np.log(np.abs(-y2 + 1))\n",
    "\n",
    "left_border = 1.\n",
    "right_border = 2.\n",
    "number_of_iteration = 10\n",
    "y1 = 3\n",
    "y2 = 2.\n",
    "test = Lab9(left_border, right_border, y1, y2, number_of_iteration, function_y1, function_y2)\n",
    "test.main()"
   ]
  },
  {
   "cell_type": "code",
   "execution_count": null,
   "metadata": {},
   "outputs": [],
   "source": []
  }
 ],
 "metadata": {
  "kernelspec": {
   "display_name": "Python 3",
   "language": "python",
   "name": "python3"
  },
  "language_info": {
   "codemirror_mode": {
    "name": "ipython",
    "version": 3
   },
   "file_extension": ".py",
   "mimetype": "text/x-python",
   "name": "python",
   "nbconvert_exporter": "python",
   "pygments_lexer": "ipython3",
   "version": "3.5.2"
  }
 },
 "nbformat": 4,
 "nbformat_minor": 2
}
