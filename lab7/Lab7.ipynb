{
 "cells": [
  {
   "cell_type": "markdown",
   "metadata": {},
   "source": [
    "## Вычисление двойного интеграла методом прямоугольника"
   ]
  },
  {
   "cell_type": "code",
   "execution_count": 266,
   "metadata": {},
   "outputs": [],
   "source": [
    "import numpy as np\n",
    "import matplotlib.pyplot as plt\n",
    "import scipy.integrate"
   ]
  },
  {
   "cell_type": "code",
   "execution_count": 267,
   "metadata": {},
   "outputs": [],
   "source": [
    "class Lab7(object):\n",
    "    def __init__(self, function, number_of_partical_segments, x_border, y_border, right_answer):\n",
    "        self._function = function\n",
    "        self._x_border = x_border\n",
    "        self._y_border = y_border\n",
    "        self._number_of_partical_segments = number_of_partical_segments\n",
    "        self._step_by_x = self._get_step(x_border)\n",
    "        self._step_by_y = self._get_step(y_border)\n",
    "        self._x_values = self._get_x_values()\n",
    "        self._y_values = self._get_y_values()\n",
    "        self._result = 0.\n",
    "        self._right_answer = right_answer\n",
    "        \n",
    "    def _get_step(self, border):\n",
    "        return (max(border) - min(border)) / float(self._number_of_partical_segments)\n",
    "    \n",
    "    def _get_x_values(self):\n",
    "        return min(self._x_border) + self._step_by_x/2. + np.arange(0, self._number_of_partical_segments) * self._step_by_x\n",
    "    \n",
    "    def _get_y_values(self):\n",
    "        return min(self._y_border) + self._step_by_y /2.+ np.arange(0, self._number_of_partical_segments) * self._step_by_y\n",
    "\n",
    "    \n",
    "    def get_integral_value(self):\n",
    "        for x in self._x_values:\n",
    "            self._result += np.sum(self._function(x, self._y_values.copy()))\n",
    "        self._result *= self._step_by_y * self._step_by_x\n",
    "        return self._result\n",
    "    \n",
    "    def check(self):\n",
    "        print(\"Расчетное значение {}\".format(self._result))\n",
    "        print(\"Правильное значение {}\".format(self._right_answer))"
   ]
  },
  {
   "cell_type": "markdown",
   "metadata": {},
   "source": [
    "## $$x^2 + y^2 - 4 = 0 $$\n",
    "## $$ 0  \\leqslant x \\leqslant 2;0\\leqslant y \\leqslant 2$$"
   ]
  },
  {
   "cell_type": "code",
   "execution_count": 304,
   "metadata": {},
   "outputs": [
    {
     "name": "stdout",
     "output_type": "stream",
     "text": [
      "Расчетное значение -5.333335999999993\n",
      "Правильное значение -5.333333333333333\n"
     ]
    }
   ],
   "source": [
    "def function(x, y):\n",
    "    return x**2 + y**2 - 4\n",
    "x_border = [0., 2.]\n",
    "y_border = [0., 2.]\n",
    "number_of_partical_segments = 1000\n",
    "right_value = scipy.integrate.dblquad(function, *y_border, *x_border)[0]\n",
    "test1 = Lab7(function, number_of_partical_segments, x_border, y_border, right_value)\n",
    "test1.get_integral_value()\n",
    "test1.check()"
   ]
  },
  {
   "cell_type": "markdown",
   "metadata": {},
   "source": [
    "## $$2x + 2y + 3x^2 =0$$\n",
    "## $$ 2  \\leqslant x \\leqslant 3;  2 \\leqslant y \\leqslant 3$$"
   ]
  },
  {
   "cell_type": "code",
   "execution_count": 305,
   "metadata": {},
   "outputs": [
    {
     "name": "stdout",
     "output_type": "stream",
     "text": [
      "Расчетное значение 28.99999974999999\n",
      "Правильное значение 29.000000000000004\n"
     ]
    }
   ],
   "source": [
    "def function(x, y):\n",
    "    return 2*x + 2*y + 3*(x**2)\n",
    "x_border = [2., 3.]\n",
    "y_border = [2., 3.]\n",
    "number_of_partical_segments = 1000\n",
    "right_value = scipy.integrate.dblquad(function, *y_border, *x_border)[0]\n",
    "test2 = Lab7(function, number_of_partical_segments, x_border, y_border, right_value)\n",
    "test2.get_integral_value()\n",
    "test2.check()"
   ]
  },
  {
   "cell_type": "markdown",
   "metadata": {},
   "source": [
    "## $$4x^3 + 7y + 6y^2 + x^3 - 8 = 0$$\n",
    "## $$ 2  \\leqslant x \\leqslant 3;  4 \\leqslant y \\leqslant 7$$"
   ]
  },
  {
   "cell_type": "code",
   "execution_count": 308,
   "metadata": {},
   "outputs": [
    {
     "name": "stdout",
     "output_type": "stream",
     "text": [
      "Расчетное значение 893.2499771250009\n",
      "Правильное значение 893.25\n"
     ]
    }
   ],
   "source": [
    "def function(x, y):\n",
    "    return 4*(x**3) + 7*y + 6*y**2 + x**3 - 8\n",
    "x_border = [2., 3]\n",
    "y_border = [4, 7.]\n",
    "number_of_partical_segments = 1000\n",
    "right_value = scipy.integrate.dblquad(function, *y_border, *x_border)[0]\n",
    "test3 = Lab7(function, number_of_partical_segments, x_border, y_border, right_value)\n",
    "test3.get_integral_value()\n",
    "test3.check()"
   ]
  }
 ],
 "metadata": {
  "kernelspec": {
   "display_name": "Python 3",
   "language": "python",
   "name": "python3"
  },
  "language_info": {
   "codemirror_mode": {
    "name": "ipython",
    "version": 3
   },
   "file_extension": ".py",
   "mimetype": "text/x-python",
   "name": "python",
   "nbconvert_exporter": "python",
   "pygments_lexer": "ipython3",
   "version": "3.5.2"
  }
 },
 "nbformat": 4,
 "nbformat_minor": 4
}
