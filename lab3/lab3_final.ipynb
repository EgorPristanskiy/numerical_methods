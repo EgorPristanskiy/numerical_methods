{
 "cells": [
  {
   "cell_type": "code",
   "execution_count": 3,
   "metadata": {},
   "outputs": [],
   "source": [
    "import numpy as np"
   ]
  },
  {
   "cell_type": "code",
   "execution_count": 12,
   "metadata": {},
   "outputs": [],
   "source": [
    "class Lab3(object):\n",
    "    def __init__(self, number_of_equations=3):\n",
    "        self.number_of_equations = number_of_equations\n",
    "        self.matrix_of_coefficients = np.zeros((self.number_of_equations, number_of_equations))\n",
    "        for i in range(number_of_equations):\n",
    "            for j in range(number_of_equations):\n",
    "                print(\"Введите коэффициент {} {}\".format(i, j))\n",
    "                self.matrix_of_coefficients[i, j] = float(input())\n",
    "        self.vector_of_values = np.zeros(3)\n",
    "        self.init_matrix = self.matrix_of_coefficients.copy()\n",
    "        for i in range(number_of_equations):\n",
    "            print(\"Введите свободный член {}\".format(i))\n",
    "            self.vector_of_values[i] = float(input())\n",
    "        self.init_value = self.vector_of_values.copy()\n",
    "        self.solution = np.zeros(3)\n",
    "        \n",
    "    def get_triangular_matrix(self):\n",
    "        print(self.matrix_of_coefficients)\n",
    "        for i in range(0, self.number_of_equations - 1):\n",
    "            for j in range(i, self.number_of_equations-1):\n",
    "                k = self.matrix_of_coefficients[j+1, i] / self.matrix_of_coefficients[i, i]\n",
    "                self.matrix_of_coefficients[j+1, :] -= self.matrix_of_coefficients[i, :] * k\n",
    "                                                        \n",
    "                self.vector_of_values[j+1] -= self.vector_of_values[i] * k\n",
    "            l = self.matrix_of_coefficients[i][i] \n",
    "            self.matrix_of_coefficients[i, :] /= l\n",
    "            self.vector_of_values[i] /= l\n",
    "        l = self.matrix_of_coefficients[2][2] \n",
    "        self.matrix_of_coefficients[2, :] /= l\n",
    "        self.vector_of_values[2] /= l\n",
    "        print(self.matrix_of_coefficients)\n",
    "\n",
    "    \n",
    "    def solve_eqution(self):\n",
    "        self.get_triangular_matrix()\n",
    "        x3 = self.vector_of_values[2]\n",
    "        x2 = (self.vector_of_values[1] - self.matrix_of_coefficients[1, 2]*x3)\n",
    "        x1 = (self.vector_of_values[0] - x2 * self.matrix_of_coefficients[0,1] - x3 * self.matrix_of_coefficients[0, 2])\n",
    "        print(\"Решение СЛАУ:\\nx1={}\\nx2={}\\nx3={}\".format(x1, x2, x3))\n",
    "        self.solution = np.array([x1, x2, x3])\n",
    "    \n",
    "    def check(self):\n",
    "        print(\"Вектор свободных членов {}\".format(self.init_value))\n",
    "        first_eqution_value = np.sum(self.init_matrix[0, :] * self.solution)\n",
    "        print(\"Первое уравнение подстановка значение {}\".format(first_eqution_value))\n",
    "        second_eqution_value = np.sum(self.init_matrix[1, :] * self.solution)\n",
    "        print(\"Второе уравнение подстановка значение {}\".format(second_eqution_value))\n",
    "        third_eqution_value = np.sum(self.init_matrix[2, :] * self.solution)\n",
    "        print(\"Третье уравнение подстановка значение {}\".format(third_eqution_value))"
   ]
  },
  {
   "cell_type": "code",
   "execution_count": 16,
   "metadata": {},
   "outputs": [
    {
     "name": "stdout",
     "output_type": "stream",
     "text": [
      "Введите коэффициент 0 0\n",
      "5\n",
      "Введите коэффициент 0 1\n",
      "-3\n",
      "Введите коэффициент 0 2\n",
      "2\n",
      "Введите коэффициент 1 0\n",
      "2\n",
      "Введите коэффициент 1 1\n",
      "6\n",
      "Введите коэффициент 1 2\n",
      "3\n",
      "Введите коэффициент 2 0\n",
      "3\n",
      "Введите коэффициент 2 1\n",
      "-2\n",
      "Введите коэффициент 2 2\n",
      "7\n",
      "Введите свободный член 0\n",
      "19\n",
      "Введите свободный член 1\n",
      "7\n",
      "Введите свободный член 2\n",
      "29\n"
     ]
    }
   ],
   "source": [
    "solve = Lab3()"
   ]
  },
  {
   "cell_type": "code",
   "execution_count": 17,
   "metadata": {},
   "outputs": [
    {
     "name": "stdout",
     "output_type": "stream",
     "text": [
      "[[ 5. -3.  2.]\n",
      " [ 2.  6.  3.]\n",
      " [ 3. -2.  7.]]\n",
      "[[ 1.         -0.6         0.4       ]\n",
      " [ 0.          1.          0.30555556]\n",
      " [ 0.          0.          1.        ]]\n",
      "Решение СЛАУ:\n",
      "x1=2.0\n",
      "x2=-1.0\n",
      "x3=3.0\n"
     ]
    }
   ],
   "source": [
    "solve.solve_eqution()"
   ]
  },
  {
   "cell_type": "code",
   "execution_count": 18,
   "metadata": {},
   "outputs": [
    {
     "name": "stdout",
     "output_type": "stream",
     "text": [
      "Вектор свободных членов [19.  7. 29.]\n",
      "Первое уравнение подстановка значение 19.0\n",
      "Второе уравнение подстановка значение 7.0\n",
      "Третье уравнение подстановка значение 29.0\n"
     ]
    }
   ],
   "source": [
    "solve.check()"
   ]
  },
  {
   "cell_type": "code",
   "execution_count": null,
   "metadata": {},
   "outputs": [],
   "source": []
  }
 ],
 "metadata": {
  "kernelspec": {
   "display_name": "Python 2",
   "language": "python",
   "name": "python2"
  },
  "language_info": {
   "codemirror_mode": {
    "name": "ipython",
    "version": 2
   },
   "file_extension": ".py",
   "mimetype": "text/x-python",
   "name": "python",
   "nbconvert_exporter": "python",
   "pygments_lexer": "ipython2",
   "version": "2.7.12"
  }
 },
 "nbformat": 4,
 "nbformat_minor": 2
}
