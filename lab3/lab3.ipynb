{
 "cells": [
  {
   "cell_type": "code",
   "execution_count": 1,
   "metadata": {},
   "outputs": [],
   "source": [
    "import numpy as np"
   ]
  },
  {
   "cell_type": "code",
   "execution_count": 59,
   "metadata": {},
   "outputs": [],
   "source": [
    "class Lab3(object):\n",
    "    def __init__(self, number_of_equations=3):\n",
    "        self.number_of_equations = number_of_equations\n",
    "        self.matrix_of_coefficients = np.zeros((self.number_of_equations, number_of_equations))\n",
    "        for i in range(number_of_equations):\n",
    "            for j in range(number_of_equations):\n",
    "                print(\"Введите коэффициент {} {}\".format(i, j))\n",
    "                self.matrix_of_coefficients[i, j] = float(input())\n",
    "        self.vector_of_values = np.zeros(3)\n",
    "        self.init_matrix = self.matrix_of_coefficients.copy()\n",
    "        for i in range(number_of_equations):\n",
    "            print(\"Введите свободный член {}\".format(i))\n",
    "            self.vector_of_values[i] = float(input())\n",
    "        self.init_value = self.vector_of_values.copy()\n",
    "        self.solution = np.zeros(3)\n",
    "        \n",
    "    def get_triangular_matrix(self):\n",
    "        print(self.matrix_of_coefficients)\n",
    "        for i in range(0, self.number_of_equations - 1):\n",
    "            for j in range(i, self.number_of_equations-1):\n",
    "                k = self.matrix_of_coefficients[j+1, i] / self.matrix_of_coefficients[i, i]\n",
    "                self.matrix_of_coefficients[j+1, :] -= self.matrix_of_coefficients[i, :] * k\n",
    "                                                        \n",
    "                self.vector_of_values[j+1] -= self.vector_of_values[i] * k\n",
    "            print(self.matrix_of_coefficients)\n",
    "    \n",
    "    def solve_eqution(self):\n",
    "        self.get_triangular_matrix()\n",
    "        x3 = self.vector_of_values[2] / self.matrix_of_coefficients[2, 2]\n",
    "        x2 = (self.vector_of_values[1] - self.matrix_of_coefficients[1, 2]*x3) / self.matrix_of_coefficients[1, 1]\n",
    "        x1 = (self.vector_of_values[0] - x2 * self.matrix_of_coefficients[0,1] - x3 * self.matrix_of_coefficients[0, 2]) / self.matrix_of_coefficients[0][0]\n",
    "        print(\"Решение СЛАУ:\\nx1={}\\nx2={}\\nx3={}\".format(x1, x2, x3))\n",
    "        self.solution = np.array([x1, x2, x3])\n",
    "    \n",
    "    def check(self):\n",
    "        print(\"Вектор свободных членов {}\".format(self.init_value))\n",
    "        first_eqution_value = np.sum(self.init_matrix[0, :] * self.solution)\n",
    "        print(\"Первое уравнение подстановка значение {}\".format(first_eqution_value))\n",
    "        second_eqution_value = np.sum(self.init_matrix[1, :] * self.solution)\n",
    "        print(\"Второе уравнение подстановка значение {}\".format(second_eqution_value))\n",
    "        third_eqution_value = np.sum(self.init_matrix[2, :] * self.solution)\n",
    "        print(\"Третье уравнение подстановка значение {}\".format(third_eqution_value))"
   ]
  },
  {
   "cell_type": "code",
   "execution_count": 60,
   "metadata": {},
   "outputs": [
    {
     "name": "stdout",
     "output_type": "stream",
     "text": [
      "Введите коэффициент 0 0\n",
      "5\n",
      "Введите коэффициент 0 1\n",
      "6\n",
      "Введите коэффициент 0 2\n",
      "7\n",
      "Введите коэффициент 1 0\n",
      "2\n",
      "Введите коэффициент 1 1\n",
      "8\n",
      "Введите коэффициент 1 2\n",
      "3\n",
      "Введите коэффициент 2 0\n",
      "7\n",
      "Введите коэффициент 2 1\n",
      "5\n",
      "Введите коэффициент 2 2\n",
      "7\n",
      "Введите свободный член 0\n",
      "8\n",
      "Введите свободный член 1\n",
      "2\n",
      "Введите свободный член 2\n",
      "8\n"
     ]
    }
   ],
   "source": [
    "solve = Lab3()"
   ]
  },
  {
   "cell_type": "code",
   "execution_count": 61,
   "metadata": {},
   "outputs": [
    {
     "name": "stdout",
     "output_type": "stream",
     "text": [
      "[[5. 6. 7.]\n",
      " [2. 8. 3.]\n",
      " [7. 5. 7.]]\n",
      "[[ 5.   6.   7. ]\n",
      " [ 0.   5.6  0.2]\n",
      " [ 0.  -3.4 -2.8]]\n",
      "[[ 5.00000000e+00  6.00000000e+00  7.00000000e+00]\n",
      " [ 0.00000000e+00  5.60000000e+00  2.00000000e-01]\n",
      " [ 0.00000000e+00 -4.44089210e-16 -2.67857143e+00]]\n",
      "Решение СЛАУ:\n",
      "x1=-0.133333333333\n",
      "x2=-0.266666666667\n",
      "x3=1.46666666667\n"
     ]
    }
   ],
   "source": [
    "solve.solve_eqution()"
   ]
  },
  {
   "cell_type": "code",
   "execution_count": 62,
   "metadata": {},
   "outputs": [
    {
     "name": "stdout",
     "output_type": "stream",
     "text": [
      "Вектор свободных членов [8. 2. 8.]\n",
      "Первое уравнение подстановка значение 8.0\n",
      "Второе уравнение подстановка значение 2.0\n",
      "Третье уравнение подстановка значение 8.0\n"
     ]
    }
   ],
   "source": [
    "solve.check()"
   ]
  },
  {
   "cell_type": "code",
   "execution_count": null,
   "metadata": {},
   "outputs": [],
   "source": []
  }
 ],
 "metadata": {
  "kernelspec": {
   "display_name": "Python 2",
   "language": "python",
   "name": "python2"
  },
  "language_info": {
   "codemirror_mode": {
    "name": "ipython",
    "version": 2
   },
   "file_extension": ".py",
   "mimetype": "text/x-python",
   "name": "python",
   "nbconvert_exporter": "python",
   "pygments_lexer": "ipython2",
   "version": "2.7.12"
  }
 },
 "nbformat": 4,
 "nbformat_minor": 2
}
