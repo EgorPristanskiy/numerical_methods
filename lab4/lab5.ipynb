{
 "cells": [
  {
   "cell_type": "code",
   "execution_count": 3,
   "metadata": {},
   "outputs": [],
   "source": [
    "import numpy as np"
   ]
  },
  {
   "cell_type": "code",
   "execution_count": 24,
   "metadata": {},
   "outputs": [],
   "source": [
    "class Lab5(object):\n",
    "    def __init__(self):\n",
    "        self.a = 3\n",
    "        self.b = 3\n",
    "        self.init_coefficients = np.zeros((self.a, self.b))\n",
    "        for i in range(self.a):\n",
    "            for j in range(self.b):\n",
    "                print(\"Введите элеменит {} {}\".format(i, j))\n",
    "                self.init_coefficients[i][j] = float(input())\n",
    "\n",
    "        self.init_vector = np.zeros(3)\n",
    "        for i in range(self.b):\n",
    "            print(\"Введите свободный член {}\".format(i))\n",
    "            self.init_vector[i] = float(input())\n",
    "        self.start_vector = self.init_vector.copy()\n",
    "        self.start_coeff = self.init_coefficients.copy()\n",
    "        for i in range(self.b):\n",
    "            self.init_vector[i] /= self.init_coefficients[i][i]\n",
    "            self.init_coefficients[i] /= self.init_coefficients[i][i]\n",
    "        self.coefficients = -self.init_coefficients.copy()\n",
    "        for i in range(self.b):\n",
    "            self.coefficients[i][i] = 0.\n",
    "        self.current_step = self.init_vector.copy()\n",
    "        self.prediction_step = np.zeros(self.b)\n",
    "        self.epsilon = 0.0002\n",
    "    \n",
    "    def calculate_prediction(self):\n",
    "        for i in range(self.b):\n",
    "#             print(self.coefficients[i][:i])\n",
    "            first_step = np.sum(self.coefficients[i][i:] * self.current_step[i:])\n",
    "#             print(first_step)\n",
    "            second_step = np.sum(self.coefficients[i][:i] * self.prediction_step[:i])\n",
    "#             print(\"pred {}\".format(self.prediction_step[:i]))\n",
    "#             print(second_step)\n",
    "            self.prediction_step[i] = first_step + second_step + self.init_vector[i]\n",
    "\n",
    "    \n",
    "    def solve(self):\n",
    "        while np.linalg.norm(self.current_step - self.prediction_step) > self.epsilon:\n",
    "            self.current_step = self.prediction_step.copy()\n",
    "            self.prediction_step = np.zeros(self.b)\n",
    "            self.calculate_prediction()\n",
    "        return self.current_step\n",
    "    \n",
    "    def check(self):\n",
    "        print(\"Проверка\")\n",
    "        print(\"Исходный вектор свободных членов {}\".format(self.start_vector))\n",
    "        print(\"Подстановка решения {}\".format(np.dot(self.start_coeff, self.current_step)))"
   ]
  },
  {
   "cell_type": "code",
   "execution_count": 25,
   "metadata": {},
   "outputs": [
    {
     "name": "stdout",
     "output_type": "stream",
     "text": [
      "Введите элеменит 0 0\n",
      "10\n",
      "Введите элеменит 0 1\n",
      "1\n",
      "Введите элеменит 0 2\n",
      "-1\n",
      "Введите элеменит 1 0\n",
      "1\n",
      "Введите элеменит 1 1\n",
      "10\n",
      "Введите элеменит 1 2\n",
      "-1\n",
      "Введите элеменит 2 0\n",
      "-1\n",
      "Введите элеменит 2 1\n",
      "1\n",
      "Введите элеменит 2 2\n",
      "10\n",
      "Введите свободный член 0\n",
      "11\n",
      "Введите свободный член 1\n",
      "10\n",
      "Введите свободный член 2\n",
      "10\n"
     ]
    }
   ],
   "source": [
    "lab5 = Lab5()"
   ]
  },
  {
   "cell_type": "code",
   "execution_count": 26,
   "metadata": {},
   "outputs": [
    {
     "name": "stdout",
     "output_type": "stream",
     "text": [
      "Исходные коэффициенты системы \n",
      " [[10.  1. -1.]\n",
      " [ 1. 10. -1.]\n",
      " [-1.  1. 10.]]\n"
     ]
    }
   ],
   "source": [
    "print(\"Исходные коэффициенты системы \\n {}\".format(lab5.start_coeff))"
   ]
  },
  {
   "cell_type": "code",
   "execution_count": 27,
   "metadata": {},
   "outputs": [
    {
     "name": "stdout",
     "output_type": "stream",
     "text": [
      "Исохдный вектор свободных членов \n",
      " [11. 10. 10.]\n"
     ]
    }
   ],
   "source": [
    "print(\"Исохдный вектор свободных членов \\n {}\".format(lab5.start_vector))"
   ]
  },
  {
   "cell_type": "code",
   "execution_count": 28,
   "metadata": {},
   "outputs": [
    {
     "name": "stdout",
     "output_type": "stream",
     "text": [
      "Решение системы \n",
      " [1.1021441  0.99100869 1.01111354]\n"
     ]
    }
   ],
   "source": [
    "print(\"Решение системы \\n {}\".format(lab5.solve()))"
   ]
  },
  {
   "cell_type": "code",
   "execution_count": 29,
   "metadata": {},
   "outputs": [
    {
     "name": "stdout",
     "output_type": "stream",
     "text": [
      "Проверка\n",
      "Исходный вектор свободных членов [11. 10. 10.]\n",
      "Подстановка решения [11.00133615 10.00111746 10.        ]\n"
     ]
    }
   ],
   "source": [
    "lab5.check()"
   ]
  }
 ],
 "metadata": {
  "kernelspec": {
   "display_name": "Python 3",
   "language": "python",
   "name": "python3"
  },
  "language_info": {
   "codemirror_mode": {
    "name": "ipython",
    "version": 3
   },
   "file_extension": ".py",
   "mimetype": "text/x-python",
   "name": "python",
   "nbconvert_exporter": "python",
   "pygments_lexer": "ipython3",
   "version": "3.5.2"
  }
 },
 "nbformat": 4,
 "nbformat_minor": 2
}
