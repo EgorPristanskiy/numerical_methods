{
 "cells": [
  {
   "cell_type": "code",
   "execution_count": 123,
   "metadata": {},
   "outputs": [],
   "source": [
    "import numpy as np"
   ]
  },
  {
   "cell_type": "code",
   "execution_count": 136,
   "metadata": {},
   "outputs": [],
   "source": [
    "class Lab5(object):\n",
    "    def __init__(self):\n",
    "        self.a = 3\n",
    "        self.b = 3\n",
    "        self.init_coefficients = np.zeros((self.a, self.b))\n",
    "        for i in range(self.a):\n",
    "            for j in range(self.b):\n",
    "                print(\"Введите элеменит {} {}\".format(i, j))\n",
    "                self.init_coefficients[i][j] = float(input())\n",
    "\n",
    "        self.init_vector = np.zeros(3)\n",
    "        for i in range(self.b):\n",
    "            print(\"Введите свободный член {}\".format(i))\n",
    "            self.init_vector[i] = float(input())\n",
    "        self.start_vector = self.init_vector.copy()\n",
    "        self.start_coeff = self.init_coefficients.copy()\n",
    "        for i in range(self.b):\n",
    "            self.init_vector[i] /= self.init_coefficients[i][i]\n",
    "            self.init_coefficients[i] /= self.init_coefficients[i][i]\n",
    "        self.coefficients = -self.init_coefficients.copy()\n",
    "        for i in range(self.b):\n",
    "            self.coefficients[i][i] = 0.\n",
    "        self.current_step = self.init_vector.copy()\n",
    "        self.prediction_step = np.zeros(self.b)\n",
    "        self.epsilon = 0.0002\n",
    "    \n",
    "    def calculate_prediction(self):\n",
    "        for i in range(self.b):\n",
    "#             print(self.coefficients[i][:i])\n",
    "            first_step = np.sum(self.coefficients[i][i:] * self.current_step[i:])\n",
    "#             print(first_step)\n",
    "            second_step = np.sum(self.coefficients[i][:i] * self.prediction_step[:i])\n",
    "#             print(\"pred {}\".format(self.prediction_step[:i]))\n",
    "#             print(second_step)\n",
    "            self.prediction_step[i] = first_step + second_step + self.init_vector[i]\n",
    "\n",
    "    \n",
    "    def solve(self):\n",
    "        while np.linalg.norm(self.current_step - self.prediction_step) > self.epsilon:\n",
    "            self.current_step = self.prediction_step.copy()\n",
    "            self.prediction_step = np.zeros(self.b)\n",
    "            self.calculate_prediction()\n",
    "        return self.current_step\n",
    "    \n",
    "    def check(self):\n",
    "        print(self.start_vector)\n",
    "        print(np.dot(self.start_coeff, self.current_step))"
   ]
  },
  {
   "cell_type": "code",
   "execution_count": 137,
   "metadata": {},
   "outputs": [
    {
     "name": "stdout",
     "output_type": "stream",
     "text": [
      "Введите элеменит 0 0\n",
      "10\n",
      "Введите элеменит 0 1\n",
      "1\n",
      "Введите элеменит 0 2\n",
      "-1\n",
      "Введите элеменит 1 0\n",
      "1\n",
      "Введите элеменит 1 1\n",
      "10\n",
      "Введите элеменит 1 2\n",
      "-1\n",
      "Введите элеменит 2 0\n",
      "-1\n",
      "Введите элеменит 2 1\n",
      "1\n",
      "Введите элеменит 2 2\n",
      "10\n",
      "Введите свободный член 0\n",
      "11\n",
      "Введите свободный член 1\n",
      "10\n",
      "Введите свободный член 2\n",
      "10\n"
     ]
    }
   ],
   "source": [
    "lab5 = Lab5()"
   ]
  },
  {
   "cell_type": "code",
   "execution_count": 141,
   "metadata": {},
   "outputs": [
    {
     "data": {
      "text/plain": [
       "array([[10.,  1., -1.],\n",
       "       [ 1., 10., -1.],\n",
       "       [-1.,  1., 10.]])"
      ]
     },
     "execution_count": 141,
     "metadata": {},
     "output_type": "execute_result"
    }
   ],
   "source": [
    "lab5.start_coeff"
   ]
  },
  {
   "cell_type": "code",
   "execution_count": 142,
   "metadata": {},
   "outputs": [
    {
     "data": {
      "text/plain": [
       "array([11., 10., 10.])"
      ]
     },
     "execution_count": 142,
     "metadata": {},
     "output_type": "execute_result"
    }
   ],
   "source": [
    "lab5.start_vector"
   ]
  },
  {
   "cell_type": "code",
   "execution_count": 139,
   "metadata": {},
   "outputs": [
    {
     "data": {
      "text/plain": [
       "array([1.1021441 , 0.99100869, 1.01111354])"
      ]
     },
     "execution_count": 139,
     "metadata": {},
     "output_type": "execute_result"
    }
   ],
   "source": [
    "lab5.solve()"
   ]
  },
  {
   "cell_type": "code",
   "execution_count": 140,
   "metadata": {},
   "outputs": [
    {
     "name": "stdout",
     "output_type": "stream",
     "text": [
      "[11. 10. 10.]\n",
      "[11.00133615 10.00111746 10.        ]\n"
     ]
    }
   ],
   "source": [
    "lab5.check()"
   ]
  },
  {
   "cell_type": "code",
   "execution_count": 108,
   "metadata": {},
   "outputs": [
    {
     "data": {
      "text/plain": [
       "array([[ 0. , -0.1,  0.1],\n",
       "       [-0.1,  0. ,  0.1],\n",
       "       [ 0.1, -0.1,  0. ]])"
      ]
     },
     "execution_count": 108,
     "metadata": {},
     "output_type": "execute_result"
    }
   ],
   "source": [
    "lab5.coefficients"
   ]
  },
  {
   "cell_type": "code",
   "execution_count": 109,
   "metadata": {},
   "outputs": [
    {
     "name": "stdout",
     "output_type": "stream",
     "text": [
      "[]\n",
      "[-0.1]\n",
      "[ 0.1 -0.1]\n"
     ]
    }
   ],
   "source": [
    "for i in range(3):\n",
    "    print(lab5.coefficients[i][:i])"
   ]
  },
  {
   "cell_type": "code",
   "execution_count": 110,
   "metadata": {},
   "outputs": [
    {
     "data": {
      "text/plain": [
       "array([1.1, 1. , 1. ])"
      ]
     },
     "execution_count": 110,
     "metadata": {},
     "output_type": "execute_result"
    }
   ],
   "source": [
    "lab5.init_vector"
   ]
  },
  {
   "cell_type": "code",
   "execution_count": 111,
   "metadata": {},
   "outputs": [
    {
     "data": {
      "text/plain": [
       "array([-0.1,  0.1,  1. ])"
      ]
     },
     "execution_count": 111,
     "metadata": {},
     "output_type": "execute_result"
    }
   ],
   "source": [
    "lab5.init_coefficients[2][0:]"
   ]
  },
  {
   "cell_type": "code",
   "execution_count": 113,
   "metadata": {},
   "outputs": [
    {
     "name": "stdout",
     "output_type": "stream",
     "text": [
      "[1.1   0.99  1.011]\n"
     ]
    }
   ],
   "source": [
    "print(lab5.current_step)"
   ]
  },
  {
   "cell_type": "code",
   "execution_count": 115,
   "metadata": {},
   "outputs": [
    {
     "name": "stdout",
     "output_type": "stream",
     "text": [
      "[]\n",
      "0.002023099999999986\n",
      "pred []\n",
      "0.0\n",
      "[-0.1]\n",
      "0.1011121\n",
      "pred [1.1020231]\n",
      "-0.11020231000000001\n",
      "[ 0.1 -0.1]\n",
      "0.0\n",
      "pred [1.1020231  0.99090979]\n",
      "0.011111331000000002\n",
      "[1.1020231  0.99090979 1.01111133]\n"
     ]
    }
   ],
   "source": [
    "lab5.calculate_prediction()\n",
    "print(lab5.current_step)"
   ]
  },
  {
   "cell_type": "code",
   "execution_count": 124,
   "metadata": {},
   "outputs": [
    {
     "data": {
      "text/plain": [
       "array([[ 1. ,  0.1, -0.1],\n",
       "       [ 0.1,  1. , -0.1],\n",
       "       [-0.1,  0.1,  1. ]])"
      ]
     },
     "execution_count": 124,
     "metadata": {},
     "output_type": "execute_result"
    }
   ],
   "source": [
    "lab5.init_coefficients"
   ]
  },
  {
   "cell_type": "code",
   "execution_count": 126,
   "metadata": {},
   "outputs": [
    {
     "name": "stdout",
     "output_type": "stream",
     "text": [
      "[0.1]\n",
      "[-0.1  0.1]\n"
     ]
    }
   ],
   "source": [
    "for i in range(3):\n",
    "    if i-1 >= 0:\n",
    "        print(lab5.init_coefficients[i][:i])"
   ]
  },
  {
   "cell_type": "code",
   "execution_count": 10,
   "metadata": {},
   "outputs": [
    {
     "data": {
      "text/plain": [
       "1"
      ]
     },
     "execution_count": 10,
     "metadata": {},
     "output_type": "execute_result"
    }
   ],
   "source": [
    "j"
   ]
  },
  {
   "cell_type": "code",
   "execution_count": null,
   "metadata": {},
   "outputs": [],
   "source": []
  }
 ],
 "metadata": {
  "kernelspec": {
   "display_name": "Python 2",
   "language": "python",
   "name": "python2"
  },
  "language_info": {
   "codemirror_mode": {
    "name": "ipython",
    "version": 2
   },
   "file_extension": ".py",
   "mimetype": "text/x-python",
   "name": "python",
   "nbconvert_exporter": "python",
   "pygments_lexer": "ipython2",
   "version": "2.7.12"
  }
 },
 "nbformat": 4,
 "nbformat_minor": 2
}
