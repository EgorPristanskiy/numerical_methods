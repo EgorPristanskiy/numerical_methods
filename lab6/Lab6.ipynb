{
 "cells": [
  {
   "cell_type": "markdown",
   "metadata": {},
   "source": [
    " ## Вычисление определенного интеграла методом трапеции"
   ]
  },
  {
   "cell_type": "code",
   "execution_count": 1,
   "metadata": {},
   "outputs": [],
   "source": [
    "import numpy as np\n",
    "import matplotlib.pyplot as plt"
   ]
  },
  {
   "cell_type": "markdown",
   "metadata": {},
   "source": [
    "## Описание функций необходимых для вычисления определнного интеграла"
   ]
  },
  {
   "cell_type": "code",
   "execution_count": 2,
   "metadata": {},
   "outputs": [],
   "source": [
    "class Lab6(object):\n",
    "    def __init__(self, function, number_of_points_per_axis, left_border, right_border, right_answer):\n",
    "        self._function = function\n",
    "        self._left_border = left_border\n",
    "        self._right_border = right_border\n",
    "        self._step_size = step_size\n",
    "        self.x_values = self._get_x_values()\n",
    "        self.y_values = self._get_y_values(self.x_values.copy())\n",
    "        self._right_answer = right_answer\n",
    "    \n",
    "    def _get_y_values(self, x_values):\n",
    "        return self._function(x_values)\n",
    "    \n",
    "    def plot_funcion_on_interval(self):\n",
    "        plt.plot(self.x_values, self.y_values)\n",
    "        plt.grid(True)\n",
    "        plt.show()\n",
    "    \n",
    "    def _get_x_values(self):\n",
    "        return np.linspace(self._left_border, self._right_border, \n",
    "                           int(self._right_border - self._left_border) / self._step_size)\n",
    "    \n",
    "    def calculate_integral_value(self):\n",
    "        return np.sum((self.y_values[:-1] + self.y_values[1:]) * (self.x_values[1:] - self.x_values[:-1]) / 2.)\n",
    "    \n",
    "    def check(self, value):\n",
    "        print(\"Расчетное значение {}\".format(value))\n",
    "        print(\"Правильное значение {}\".format(self._right_answer))"
   ]
  },
  {
   "cell_type": "markdown",
   "metadata": {},
   "source": [
    "## $$y=x^2$$"
   ]
  },
  {
   "cell_type": "code",
   "execution_count": 3,
   "metadata": {},
   "outputs": [],
   "source": [
    "def fun(x):\n",
    "    return x**2\n",
    "step_size = 0.001\n",
    "left_border = 0.\n",
    "rigt_border = 5.\n",
    "right_answer = 125./3."
   ]
  },
  {
   "cell_type": "code",
   "execution_count": 4,
   "metadata": {},
   "outputs": [
    {
     "name": "stderr",
     "output_type": "stream",
     "text": [
      "/home/egorpristanskiy/.local/lib/python3.5/site-packages/ipykernel_launcher.py:21: DeprecationWarning: object of type <class 'float'> cannot be safely interpreted as an integer.\n"
     ]
    }
   ],
   "source": [
    "test1 = Lab6(fun, step_size, left_border, rigt_border, right_answer)"
   ]
  },
  {
   "cell_type": "code",
   "execution_count": 5,
   "metadata": {},
   "outputs": [
    {
     "data": {
      "image/png": "[encoded data removed]",
      "text/plain": [
       "<Figure size 432x288 with 1 Axes>"
      ]
     },
     "metadata": {
      "needs_background": "light"
     },
     "output_type": "display_data"
    }
   ],
   "source": [
    "test1.plot_funcion_on_interval()"
   ]
  },
  {
   "cell_type": "code",
   "execution_count": 6,
   "metadata": {},
   "outputs": [
    {
     "name": "stdout",
     "output_type": "stream",
     "text": [
      "Расчетное значение 41.66666750033343\n",
      "Правильное значение 41.666666666666664\n"
     ]
    }
   ],
   "source": [
    "value = test1.calculate_integral_value()\n",
    "test1.check(value)"
   ]
  },
  {
   "cell_type": "markdown",
   "metadata": {},
   "source": [
    "## $$y=x^3$$"
   ]
  },
  {
   "cell_type": "code",
   "execution_count": 7,
   "metadata": {},
   "outputs": [],
   "source": [
    "def fun(x):\n",
    "    return x**3\n",
    "step_size = 0.001\n",
    "left_border = -5.\n",
    "rigt_border = 5.\n",
    "right_answer = 0."
   ]
  },
  {
   "cell_type": "code",
   "execution_count": 8,
   "metadata": {},
   "outputs": [
    {
     "name": "stderr",
     "output_type": "stream",
     "text": [
      "/home/egorpristanskiy/.local/lib/python3.5/site-packages/ipykernel_launcher.py:21: DeprecationWarning: object of type <class 'float'> cannot be safely interpreted as an integer.\n"
     ]
    }
   ],
   "source": [
    "test2 = Lab6(fun, step_size, left_border, rigt_border, right_answer)"
   ]
  },
  {
   "cell_type": "code",
   "execution_count": 9,
   "metadata": {
    "scrolled": true
   },
   "outputs": [
    {
     "data": {
      "image/png": "[encoded data removed]",
      "text/plain": [
       "<Figure size 432x288 with 1 Axes>"
      ]
     },
     "metadata": {
      "needs_background": "light"
     },
     "output_type": "display_data"
    }
   ],
   "source": [
    "test2.plot_funcion_on_interval()"
   ]
  },
  {
   "cell_type": "code",
   "execution_count": 10,
   "metadata": {},
   "outputs": [
    {
     "name": "stdout",
     "output_type": "stream",
     "text": [
      "Расчетное значение 2.842170943040401e-14\n",
      "Правильное значение 0.0\n"
     ]
    }
   ],
   "source": [
    "value = test2.calculate_integral_value()\n",
    "test2.check(value)"
   ]
  },
  {
   "cell_type": "markdown",
   "metadata": {},
   "source": [
    "## $$y=x^4+2x^3-5x + 7$$"
   ]
  },
  {
   "cell_type": "code",
   "execution_count": 11,
   "metadata": {},
   "outputs": [],
   "source": [
    "def fun(x):\n",
    "    return x**4 + 2*(x**3) - 5*x + 7\n",
    "step_size = 0.001\n",
    "left_border = -10.\n",
    "rigt_border = 5.\n",
    "right_answer =  16230."
   ]
  },
  {
   "cell_type": "code",
   "execution_count": 12,
   "metadata": {},
   "outputs": [
    {
     "name": "stderr",
     "output_type": "stream",
     "text": [
      "/home/egorpristanskiy/.local/lib/python3.5/site-packages/ipykernel_launcher.py:21: DeprecationWarning: object of type <class 'float'> cannot be safely interpreted as an integer.\n"
     ]
    }
   ],
   "source": [
    "test3 = Lab6(fun, step_size, left_border, rigt_border, right_answer)"
   ]
  },
  {
   "cell_type": "code",
   "execution_count": 13,
   "metadata": {},
   "outputs": [
    {
     "data": {
      "image/png": "[encoded data removed]",
      "text/plain": [
       "<Figure size 432x288 with 1 Axes>"
      ]
     },
     "metadata": {
      "needs_background": "light"
     },
     "output_type": "display_data"
    }
   ],
   "source": [
    "test3.plot_funcion_on_interval()"
   ]
  },
  {
   "cell_type": "code",
   "execution_count": 14,
   "metadata": {},
   "outputs": [
    {
     "name": "stdout",
     "output_type": "stream",
     "text": [
      "Расчетное значение 16230.000337545005\n",
      "Правильное значение 16230.0\n"
     ]
    }
   ],
   "source": [
    "value = test3.calculate_integral_value()\n",
    "test3.check(value)"
   ]
  },
  {
   "cell_type": "code",
   "execution_count": null,
   "metadata": {},
   "outputs": [],
   "source": []
  }
 ],
 "metadata": {
  "kernelspec": {
   "display_name": "Python 3",
   "language": "python",
   "name": "python3"
  },
  "language_info": {
   "codemirror_mode": {
    "name": "ipython",
    "version": 3
   },
   "file_extension": ".py",
   "mimetype": "text/x-python",
   "name": "python",
   "nbconvert_exporter": "python",
   "pygments_lexer": "ipython3",
   "version": "3.5.2"
  }
 },
 "nbformat": 4,
 "nbformat_minor": 4
}
