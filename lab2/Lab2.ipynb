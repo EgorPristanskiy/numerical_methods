{
 "cells": [
  {
   "cell_type": "code",
   "execution_count": 1,
   "metadata": {},
   "outputs": [],
   "source": [
    "import numpy as np\n",
    "import matplotlib.pyplot as plt"
   ]
  },
  {
   "cell_type": "code",
   "execution_count": 56,
   "metadata": {},
   "outputs": [],
   "source": [
    "class Lad2(object):\n",
    "    def __init__(self):\n",
    "        print(\"Введиете параметр a\")\n",
    "        self.a = float(input())\n",
    "        print(\"Введиете параметр b\")\n",
    "        self.b = float(input())\n",
    "        print(\"Введиете параметр c\")\n",
    "        self.c = float(input())\n",
    "        print(\"Введиете параметр d\")\n",
    "        self.d = float(input())\n",
    "        print(\"Введиете левую границу a\")\n",
    "        self.left_border_a = float(input())\n",
    "        print(\"Введиете левую границу b\")\n",
    "        self.right_border_b = float(input())\n",
    "        self.x_points = None\n",
    "        self.y_values = None\n",
    "        self.sigma = 0.000001\n",
    "        self.max_steps = 1000\n",
    "        self.iteration_num = 0\n",
    "        self.f_a = self.function_value(self.left_border_a)\n",
    "        self.f_b = self.function_value(self.right_border_b)\n",
    "        self.f_xm = None\n",
    "        self.answer_msg = \"Нет решений на данном интервале\"\n",
    "    \n",
    "    def generate_values(self, left_border=-10, right_border=10, num_of_points=1000):\n",
    "        self.x_points = np.linspace(left_border, right_border, num_of_points)\n",
    "    \n",
    "    def function_value(self, x):\n",
    "        return self.a * x**3 + self.b * x**2 + self.c * x + self.d\n",
    "    \n",
    "    def calculate_function_values(self):\n",
    "        self.y_values = []\n",
    "        for x in self.x_points:\n",
    "            self.y_values.append(self.function_value(x))\n",
    "    \n",
    "    def get_function_values(self):\n",
    "        self.generate_values()\n",
    "    \n",
    "    def plot_function(self): \n",
    "        plt.figure(figsize=(10, 10))\n",
    "        plt.grid(True)\n",
    "        plt.plot(self.x_points, self.y_values)\n",
    "    \n",
    "    def solve(self):\n",
    "        while self.right_border_b - self.left_border_a > self.sigma and self.iteration_num < self.max_steps:\n",
    "            xm = (self.left_border_a + self.right_border_b)/2.\n",
    "            self.f_xm = self.function_value(xm)\n",
    "            if self.f_a*self.f_xm <= 0.:\n",
    "                self.right_border_b = xm\n",
    "                self.f_b = self.f_xm\n",
    "            else:\n",
    "                self.left_border_a = xm\n",
    "                self.f_a = self.f_xm\n",
    "        if self.iteration_num < self.max_steps:\n",
    "            self.answer_msg = \"Корень на даннома интервале x={}\".format((self.left_border_a + self.right_border_b)/2.)\n",
    "            print(\"Значение функции в данной точке {}\".format(self.function_value((self.left_border_a + self.right_border_b)/2.)))\n",
    "        print(self.answer_msg)\n",
    "    \n",
    "    def main(self):\n",
    "        self.generate_values()\n",
    "        self.calculate_function_values()\n",
    "        self.plot_function()\n",
    "        self.solve()"
   ]
  },
  {
   "cell_type": "code",
   "execution_count": 57,
   "metadata": {},
   "outputs": [
    {
     "name": "stdout",
     "output_type": "stream",
     "text": [
      "Введиете параметр a\n",
      "5\n",
      "Введиете параметр b\n",
      "6\n",
      "Введиете параметр c\n",
      "7\n",
      "Введиете параметр d\n",
      "8\n",
      "Введиете левую границу a\n",
      "-10\n",
      "Введиете левую границу b\n",
      "10\n"
     ]
    }
   ],
   "source": [
    "lab2 = Lad2()"
   ]
  },
  {
   "cell_type": "code",
   "execution_count": 58,
   "metadata": {},
   "outputs": [
    {
     "name": "stdout",
     "output_type": "stream",
     "text": [
      "Значение функции в данной точке -3.17989390552e-06\n",
      "Корень на даннома интервале x=-1.17113560438\n"
     ]
    },
    {
     "data": {
      "image/png": "[encoded data removed]",
      "text/plain": [
       "<Figure size 720x720 with 1 Axes>"
      ]
     },
     "metadata": {
      "needs_background": "light"
     },
     "output_type": "display_data"
    }
   ],
   "source": [
    "lab2.main()"
   ]
  },
  {
   "cell_type": "code",
   "execution_count": null,
   "metadata": {},
   "outputs": [],
   "source": []
  }
 ],
 "metadata": {
  "kernelspec": {
   "display_name": "Python 2",
   "language": "python",
   "name": "python2"
  },
  "language_info": {
   "codemirror_mode": {
    "name": "ipython",
    "version": 2
   },
   "file_extension": ".py",
   "mimetype": "text/x-python",
   "name": "python",
   "nbconvert_exporter": "python",
   "pygments_lexer": "ipython2",
   "version": "2.7.12"
  }
 },
 "nbformat": 4,
 "nbformat_minor": 2
}
